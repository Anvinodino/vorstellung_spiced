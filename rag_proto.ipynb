{
 "cells": [
  {
   "cell_type": "code",
   "execution_count": 5,
   "metadata": {},
   "outputs": [],
   "source": [
    "import os\n",
    "from langchain.vectorstores import Chroma\n",
    "from langchain.embeddings import OpenAIEmbeddings\n",
    "from langchain.text_splitter import RecursiveCharacterTextSplitter\n",
    "from langchain.llms import OpenAI\n",
    "from langchain.chains import RetrievalQA \n",
    "from langchain.document_loaders import TextLoader \n",
    "from langchain.document_loaders import DirectoryLoader\n",
    "from langchain.document_loaders import DirectoryLoader, PyPDFLoader\n",
    "\n",
    "from langchain.chains import LLMChain\n",
    "from langchain.memory import ConversationBufferMemory\n",
    "from langchain_core.prompts import PromptTemplate\n",
    "from langchain_openai import OpenAI\n",
    "\n",
    "\n"
   ]
  },
  {
   "cell_type": "code",
   "execution_count": 3,
   "metadata": {},
   "outputs": [],
   "source": [
    "OPENAI_API_KEY= (os.getenv(\"OPENAI_API_KEY\"))"
   ]
  },
  {
   "cell_type": "code",
   "execution_count": 2,
   "metadata": {},
   "outputs": [],
   "source": [
    "import json\n",
    "from llama_index.readers.google import GoogleDriveReader\n",
    "\n",
    "# Lade die Service-Account-Schlüsseldatei\n",
    "with open(\"credentials.json\") as f:\n",
    "    service_account_key = json.load(f)\n",
    "\n",
    "# Initialize the reader\n",
    "reader = GoogleDriveReader(\n",
    "    folder_id=\"1omQKaU6syLr5X0kcr1_Vnl0LKNfQzanI\",\n",
    "    service_account_key=service_account_key,  # Hier das geladene Dict übergeben!\n",
    ")\n"
   ]
  },
  {
   "cell_type": "code",
   "execution_count": 3,
   "metadata": {},
   "outputs": [
    {
     "name": "stderr",
     "output_type": "stream",
     "text": [
      "Ignoring wrong pointing object 8 0 (offset 0)\n",
      "Ignoring wrong pointing object 10 0 (offset 0)\n",
      "Ignoring wrong pointing object 12 0 (offset 0)\n",
      "Ignoring wrong pointing object 14 0 (offset 0)\n",
      "Ignoring wrong pointing object 16 0 (offset 0)\n",
      "Ignoring wrong pointing object 18 0 (offset 0)\n",
      "Ignoring wrong pointing object 28 0 (offset 0)\n",
      "Ignoring wrong pointing object 30 0 (offset 0)\n",
      "Ignoring wrong pointing object 8 0 (offset 0)\n",
      "Ignoring wrong pointing object 10 0 (offset 0)\n",
      "Ignoring wrong pointing object 12 0 (offset 0)\n",
      "Ignoring wrong pointing object 14 0 (offset 0)\n",
      "Ignoring wrong pointing object 17 0 (offset 0)\n",
      "Ignoring wrong pointing object 19 0 (offset 0)\n",
      "Ignoring wrong pointing object 21 0 (offset 0)\n",
      "Ignoring wrong pointing object 23 0 (offset 0)\n",
      "Ignoring wrong pointing object 37 0 (offset 0)\n",
      "Ignoring wrong pointing object 39 0 (offset 0)\n",
      "Ignoring wrong pointing object 10 0 (offset 0)\n",
      "Ignoring wrong pointing object 8 0 (offset 0)\n",
      "Ignoring wrong pointing object 10 0 (offset 0)\n",
      "Ignoring wrong pointing object 12 0 (offset 0)\n",
      "Ignoring wrong pointing object 20 0 (offset 0)\n",
      "Ignoring wrong pointing object 8 0 (offset 0)\n",
      "Ignoring wrong pointing object 10 0 (offset 0)\n",
      "Ignoring wrong pointing object 12 0 (offset 0)\n",
      "Ignoring wrong pointing object 14 0 (offset 0)\n",
      "Ignoring wrong pointing object 24 0 (offset 0)\n",
      "/Prev=0 in the trailer - assuming there is no previous xref table\n",
      "Ignoring wrong pointing object 8 0 (offset 0)\n",
      "Ignoring wrong pointing object 10 0 (offset 0)\n",
      "Ignoring wrong pointing object 12 0 (offset 0)\n",
      "Ignoring wrong pointing object 14 0 (offset 0)\n",
      "Ignoring wrong pointing object 24 0 (offset 0)\n",
      "Ignoring wrong pointing object 26 0 (offset 0)\n",
      "Ignoring wrong pointing object 8 0 (offset 0)\n",
      "Ignoring wrong pointing object 10 0 (offset 0)\n",
      "Ignoring wrong pointing object 12 0 (offset 0)\n",
      "Ignoring wrong pointing object 24 0 (offset 0)\n",
      "Ignoring wrong pointing object 9 0 (offset 0)\n",
      "Ignoring wrong pointing object 82 0 (offset 0)\n",
      "Ignoring wrong pointing object 91 0 (offset 0)\n",
      "Ignoring wrong pointing object 100 0 (offset 0)\n",
      "invalid pdf header: b'JVBER'\n",
      "EOF marker not found\n",
      "invalid pdf header: b'JVBER'\n",
      "EOF marker not found\n",
      "invalid pdf header: b'JVBER'\n",
      "EOF marker not found\n"
     ]
    },
    {
     "name": "stdout",
     "output_type": "stream",
     "text": [
      "Failed to load file C:\\Users\\letie\\AppData\\Local\\Temp\\tmp6u3m6f7p\\1SoaebZiXaU8k10roMiogiVwUAQKRW1AI.pdf with error: RetryError[<Future at 0x25bd0d6cbd0 state=finished raised PdfStreamError>]. Skipping...\n"
     ]
    },
    {
     "name": "stderr",
     "output_type": "stream",
     "text": [
      "Ignoring wrong pointing object 8 0 (offset 0)\n",
      "Ignoring wrong pointing object 10 0 (offset 0)\n",
      "Ignoring wrong pointing object 12 0 (offset 0)\n",
      "Ignoring wrong pointing object 14 0 (offset 0)\n",
      "Ignoring wrong pointing object 8 0 (offset 0)\n",
      "Ignoring wrong pointing object 10 0 (offset 0)\n",
      "Ignoring wrong pointing object 12 0 (offset 0)\n",
      "Ignoring wrong pointing object 20 0 (offset 0)\n",
      "Ignoring wrong pointing object 8 0 (offset 0)\n",
      "Ignoring wrong pointing object 10 0 (offset 0)\n",
      "Ignoring wrong pointing object 12 0 (offset 0)\n",
      "Ignoring wrong pointing object 14 0 (offset 0)\n",
      "Ignoring wrong pointing object 16 0 (offset 0)\n",
      "Ignoring wrong pointing object 18 0 (offset 0)\n",
      "Ignoring wrong pointing object 20 0 (offset 0)\n",
      "Ignoring wrong pointing object 30 0 (offset 0)\n"
     ]
    },
    {
     "name": "stdout",
     "output_type": "stream",
     "text": [
      "Anzahl eindeutiger Dokumente: 85\n"
     ]
    }
   ],
   "source": [
    "new_documents = reader.load_data()\n",
    "\n",
    "# Wenn du Duplikate vermeiden willst, kannst du einen Hash oder die Datei-ID als Schlüssel verwenden.\n",
    "# Beispiel: Setzen eines Sets, um IDs zu speichern und Duplikate zu vermeiden\n",
    "unique_documents = []\n",
    "seen_ids = set()  # Hier speichern wir bereits gesehene IDs\n",
    "\n",
    "for doc in new_documents:\n",
    "    doc_id = getattr(doc, \"doc_id\", None)  # Annahme: Jedes Dokument hat eine ID\n",
    "    if doc_id not in seen_ids:\n",
    "        unique_documents.append(doc)\n",
    "        seen_ids.add(doc_id)\n",
    "\n",
    "# Die unique_documents-Liste enthält nun nur noch die eindeutigen Dokumente.\n",
    "print(f\"Anzahl eindeutiger Dokumente: {len(unique_documents)}\")"
   ]
  },
  {
   "cell_type": "code",
   "execution_count": 4,
   "metadata": {},
   "outputs": [
    {
     "name": "stderr",
     "output_type": "stream",
     "text": [
      "Ignoring wrong pointing object 10 0 (offset 0)\n"
     ]
    }
   ],
   "source": [
    "\n",
    "\n",
    "loader = DirectoryLoader(\"./bendig/\", glob= \"./*.pdf\", loader_cls=PyPDFLoader)\n",
    "\n",
    "documents = loader.load()"
   ]
  },
  {
   "cell_type": "code",
   "execution_count": 8,
   "metadata": {},
   "outputs": [],
   "source": [
    "from langchain.schema import Document\n",
    "\n",
    "# Neue Liste mit korrekten `Document`-Objekten erstellen\n",
    "corrected_documents = [\n",
    "    Document(page_content=doc.text_resource.text, metadata=doc.metadata) for doc in new_documents\n",
    "]\n",
    "\n",
    "\n"
   ]
  },
  {
   "cell_type": "code",
   "execution_count": 10,
   "metadata": {},
   "outputs": [],
   "source": [
    "text_splitter = RecursiveCharacterTextSplitter(chunk_size=1000, chunk_overlap=200)\n",
    "texts = text_splitter.split_documents(corrected_documents)"
   ]
  },
  {
   "cell_type": "code",
   "execution_count": 6,
   "metadata": {},
   "outputs": [
    {
     "name": "stdout",
     "output_type": "stream",
     "text": [
      "[Document(metadata={'source': 'bendig\\\\200513_Entw AbwicklV_Bendig - EBE.pdf', 'page': 0, 'page_label': '1'}, page_content='Abwicklungsvereinbarung \\n \\nzwischen \\n \\nEBE Elektro-Bau-Elemente GmbH, Sielminger Straße 63, 70771 Leinfelden-Echterdingen  \\nvertreten durch den Geschäftsführer Dr. Gerd Fricke \\n– Arbeitgeber – \\n \\nund \\n \\nRalf Bendig, Bachstr. 24-1 71229 Leonberg \\n– Arbeitnehmer – \\n \\n \\nPräambel \\nDie Arbeitgeberin hat das mit dem Arbeitnehmer bestehende Arbeitsverhältnis vom \\n01.04.2018 aus dringenden betrieblichen Gründen ordentlich am 27.04.2020 fristgerecht zum \\n31.05.2020 gekündigt. \\n \\nDer Arbeitgeber geht davon aus, dass der Arbeitsplatz des Arbeitnehmers sp ätestens zum \\nAblauf des 31. Mai 2020 vollst ändig gestrichen werden wird und somit seine \\nBeschäftigungsmöglichkeit spätestens zu diesem Zeitpunkt ersatzlos wegfallen wird. Freie \\noder freiwerdende Stellen, auf denen  der Arbeitnehmer mit Blick auf seine Qualifikation ab \\ndem 01. Juni 2020 besch äftigt werden k önnte, sind im Unternehmen nicht eingerichtet.'), Document(metadata={'source': 'bendig\\\\200513_Entw AbwicklV_Bendig - EBE.pdf', 'page': 0, 'page_label': '1'}, page_content='oder freiwerdende Stellen, auf denen  der Arbeitnehmer mit Blick auf seine Qualifikation ab \\ndem 01. Juni 2020 besch äftigt werden k önnte, sind im Unternehmen nicht eingerichtet. \\nEbenso wenig besteht die Möglichkeit, den Arbeitnehmer auf dem Arbeitsplatz eines anderen \\nArbeitnehmers zu beschäftigen, weil im Betrieb keine Arbeit- nehmer beschäftigt werden, die \\neinerseits vergleichbar und zugleich sozial weniger schutzwürdig wären.  \\nVor dem Hintergrund der unausweichlich aus betriebsbedingten Gründen ausgesprochen \\nKündigung vereinbaren Arbeitgeber und Arbeitnehmer (im Folgenden auch: „Die Parteien“) \\nzur Abwicklung des Beschäftigungsverhältnis folgendes:  \\n \\n§ 1 Abwicklung \\nDie Parteien sind sich darüber einig, dass d as Arbeitsverhältnis erst am 31.08.2020 endet. \\nDas Beschäftigungsverhältnis wird bis  zu diesem Zeitpunkt wird mit einem monatlichen \\nBruttogrundgehalt in Höhe von 5.400,00 Euro ordnungsgemäß abgewickelt  \\n(\"Beendigungsdatum\").'), Document(metadata={'source': 'bendig\\\\200513_Entw AbwicklV_Bendig - EBE.pdf', 'page': 0, 'page_label': '1'}, page_content='Das Beschäftigungsverhältnis wird bis  zu diesem Zeitpunkt wird mit einem monatlichen \\nBruttogrundgehalt in Höhe von 5.400,00 Euro ordnungsgemäß abgewickelt  \\n(\"Beendigungsdatum\"). \\n  \\n§ 2 Freistellung, Urlaubsansprüche, Überstunden \\nDer Arbeitnehmer bleibt bis zur Beendigung des Arbeitsverhältnisses unwiderruflich unter \\nFortzahlung des Gehalts gem. § 1 von der Arbeitgeberin von der Arbeit freigestellt. \\n \\nEventuell noch bestehende Urlaubsansprüche und Arbeitszeitguthaben werden angerechnet. \\n \\n§ 3 Sonderzahlungen \\nDie Parteien sind sich dar über einig, dass die tats ächlichen Voraussetzungen f ür das \\nUrlaubsgeld nur bis zum Fälligkeitstermin 31.05.2020 vorliegen. Daraus ergibt sich für das \\nGeschäftsjahr 2020 eine anteiliger Urlaubsgeldanspruch in Höhe von 2.250,00 Euro ( 0,5'), Document(metadata={'source': 'bendig\\\\200513_Entw AbwicklV_Bendig - EBE.pdf', 'page': 1, 'page_label': '2'}, page_content='Bruttomonatsgehalt : 6 x 5 Monate). Das Urlaubgeld ist fällig mit dem Gehaltsanspruch für \\nden Monat Mai 2020. \\n \\nDarüber hinaus bestehen keine weiteren Ansprüche auf Sonderzahlungen jedweder Art. \\n \\n§ 4 Vorzeitige Beendigungsmöglichkeit („Sprinterklausel“) \\nDer Arbeitnehmer ist berechtigt, das Arbeitsverhältnis seinerseits durch schriftliche Erklärung \\nmit einer Ank ündigungsfrist von sieben Tagen vorzeitig zu beenden. Auch diese vorzeitige \\nBeendigung erfolgt auf Veranlassung des Arbeitgebers und liegt in dessen Interesse. \\nFür den Fall der vorzeitigen Beendigung des Arbeitsverhältnisses zahlt der Arbeitgeber dem \\nArbeitnehmer für den Verlust des Arbeitsplatzes eine Abfindung in Höhe von 50 % derjenigen \\nBruttovergütung (ausschließlich der Arbeitgeberbeitr äge zum  \\nGesamtsozialversicherungsbeitrag), welche der Arbeitnehmer andernfalls nach § 1 bis zum \\nBeschäftigungsende beanspruchen könnte. Diese Zahlung wird mit dem tatsächlichen Ende'), Document(metadata={'source': 'bendig\\\\200513_Entw AbwicklV_Bendig - EBE.pdf', 'page': 1, 'page_label': '2'}, page_content='Gesamtsozialversicherungsbeitrag), welche der Arbeitnehmer andernfalls nach § 1 bis zum \\nBeschäftigungsende beanspruchen könnte. Diese Zahlung wird mit dem tatsächlichen Ende \\ndes Beschäftigungsverhältnisses fällig. \\n \\n§ 4 Zeugnis \\nDer Arbeitgeber wird dem Arbeitnehmer ein wohlwollendes qualifiziertes Arbeitszeugnis \\nausstellen mit der Gesamtnote “gut”. \\n \\n§ 5 Rückgabe von Arbeitsmitteln und -gegenständen \\nDer Arbeitnehmer ist verpflichtet, unverz üglich nach Unterzeichnung dieser Vereinbarung \\nsämtliche in seinem Besitz befindlichen und dem Arbeitgeber bzw. den mit diesem \\nverbundenen Unternehmen gehörenden Gegenstände, Waren, Geräte, Datenträger, Daten, \\nDateien, Computerprogramme, Unterlagen, Materialien, Urkunden, Aufzeichnungen, Notizen, \\nEntwürfe sowie hiervon gefer - tigte Durchschriften oder Kopien sowie alle Zugangskarten, \\nSchlüssel, Ger äte, Datentr äger, Zeiterfassungs - und Zugangschips, Zugangsk arten und'), Document(metadata={'source': 'bendig\\\\200513_Entw AbwicklV_Bendig - EBE.pdf', 'page': 1, 'page_label': '2'}, page_content='Entwürfe sowie hiervon gefer - tigte Durchschriften oder Kopien sowie alle Zugangskarten, \\nSchlüssel, Ger äte, Datentr äger, Zeiterfassungs - und Zugangschips, Zugangsk arten und \\nSchlüssel in funktionsfähigem Zustand an den Arbeitgeber an dessen Sitz herauszugeben. \\n \\n§ 6 Löschung elektronischer Daten \\nDer Arbeitnehmer ist ferner verpflichtet, s ämtliche elektronische Daten, die den Arbeitgeber \\noder die mit ihm verbundenen Unternehmen betreffen und auf einem nicht an den Arbeitge - \\nber zurückzugebenden Speichermedium gespeichert sind, revisionssicher zu löschen und den \\nLöschvorgang auf Aufforderung des Arbeitgebers schriftlich zu bestätigen.  \\n  \\n§ 7 Kein Wettbewerbsverbot \\nEin nachvertragliches Wettbewerbsverbot haben die Parteien nicht vereinbart, weshalb An - \\nsprüche des Arbeitnehmers auf Bezahlung einer Karenzentschädigung ausgeschlossen sind. \\nVorsorglich heben die Parteien jegliche Vereinbarungen mit sofortiger Wirkung auf, die die'), Document(metadata={'source': 'bendig\\\\200513_Entw AbwicklV_Bendig - EBE.pdf', 'page': 1, 'page_label': '2'}, page_content='sprüche des Arbeitnehmers auf Bezahlung einer Karenzentschädigung ausgeschlossen sind. \\nVorsorglich heben die Parteien jegliche Vereinbarungen mit sofortiger Wirkung auf, die die \\nRechtsfolgen eines nachvertraglichen Wettbewerbsverbots bzw. den Anspruch der Ar - \\nbeitnehmer auf Bezahlung einer Karenzentschädigung auslösen könnten.  \\n \\n§ 8 Erledigung gegenseitiger Ansprüche \\nMit der Erfüllung der in dieser Vereinbarung enthaltenen Verpflichtungen sind sämtliche \\ngegenseitige Ansprüche erledigt.'), Document(metadata={'source': 'bendig\\\\200513_Entw AbwicklV_Bendig - EBE.pdf', 'page': 2, 'page_label': '3'}, page_content='§ 7 Der Arbeitnehmer verzichtet auf Kündigungsschutzklage \\nDer Arbeitnehmer verzichtet ausdrücklich auf das Recht Kündigungsschutzklage zu erheben \\nund wird eine bereits anhängige Kündigungsschutzklage unverzüglich zurückzunehmen. \\n \\n§ 8 Sperrzeit Arbeitslosengeld I \\nArbeitnehmer und Arbeitgeber sind sich darüber im Klaren, dass dieser Abwicklungsvertrag \\ndazu führen könnte, dass d ie Agentur für Arbeit eine Sperrzeit über das Arbeitslosengeld I \\nverhängt. Sollte dieser Fall eintreten, zahlt der Arbeitgeber dem Arbeitnehmer eine dem \\nArbeitslosengeld I in der Höhe entsprechende Entschädigung für die Dauer der Sperrzeit \\n(i.d.R. 3 Monate) . Diese Kompensationszahlung ist begrenzt auf den Höchstsatz des \\nArbeitslosengeld I-Anspruchs, der derzeit bei 2.031,56 Euro (netto) liegt. \\n \\nDer Dem Arbeitnehmer obliegt gerade mit Blick auf § 7 dieser Vereinbarung keine Pflicht zur \\nErhebung einer sozialgerichtlichen Klage.'), Document(metadata={'source': 'bendig\\\\200513_Entw AbwicklV_Bendig - EBE.pdf', 'page': 2, 'page_label': '3'}, page_content='Der Dem Arbeitnehmer obliegt gerade mit Blick auf § 7 dieser Vereinbarung keine Pflicht zur \\nErhebung einer sozialgerichtlichen Klage. \\n \\n \\n     \\nOrt, Datum, Unterschrift Arbeitgeber    Ort, Datum, Unterschrift Arbeitnehmer'), Document(metadata={'source': 'bendig\\\\Angebot Aufhebungsvertrag.pdf', 'page': 0, 'page_label': '1'}, page_content='Datum: 22. April 2020 Seite 1 von 5 \\nAufhebungsvertrag: EBE Elektro-Bau-Elemente GmbH / Ralf Bendig  \\n \\nAUFHEBUNGSVEREINBARUNG \\n \\n \\n \\n \\nZwischen  Herr \\n   Ralf Bendig \\n   Bachstr. 24-1 \\n71229 Leonberg    \\n \\n- im Folgenden: „Arbeitnehmer“  - \\n \\n \\n \\nund der  EBE Elektro-Bau-Elemente GmbH \\n    70771 Leinfelden-Echterdingen \\n    Sielminger Straße 63  \\n \\n- im Folgenden: „Arbeitgeber“ -'), Document(metadata={'source': 'bendig\\\\Angebot Aufhebungsvertrag.pdf', 'page': 1, 'page_label': '2'}, page_content='Datum: 22. April 2020 Seite 2 von 5 \\nAufhebungsvertrag: EBE Elektro-Bau-Elemente GmbH / Ralf Bendig  \\n \\nVorbemerkung: \\n \\nDer Arbeitnehmer ist seit dem 01. April 2018 beim Arbeitgeber beschäftigt. Die Parteien sind \\nübereingekommen, die Beendigung seines Arbeitsverhältnisses aus dringenden betrieblichen \\nGründen zu regeln, da der Arbeitsplatz des Arbeitnehmers spätestens zum Ablauf des 31. Mai \\n2020 vollständig gestrichen werden wird und somit seine Beschäftigungsmöglichkeit spätestens \\nzu diesem Zeitpunkt e rsatzlos wegfallen wird. Freie oder freiwerdende Stellen, auf denen der \\nArbeitnehmer mit Blick auf seine Qualifikation ab dem 01. Juni 2020 beschäftigt werden könnte, \\nsind im Unternehmen nicht eingerichtet. Ebenso wenig besteht die Möglichkeit, den Arbeitnehmer \\nauf dem Arbeitsplatz eines anderen Arbeitnehmers zu beschäftigen, weil im Betrieb keine Arbeit-\\nnehmer beschäftigt werden, die einerseits vergleichbar und zugleich sozial weniger schutzwürdig \\nwären.'), Document(metadata={'source': 'bendig\\\\Angebot Aufhebungsvertrag.pdf', 'page': 1, 'page_label': '2'}, page_content='nehmer beschäftigt werden, die einerseits vergleichbar und zugleich sozial weniger schutzwürdig \\nwären. \\n \\nVor diesem Hintergrund und zur Vermeidung einer andernfalls unausweichlichen Kündigung des \\nArbeitsverhältnisses aus dringenden betrieblichen Gründen , die vom Arbeitgeber unter Beach-\\ntung der vertraglich vereinbarten Kündigungsfrist zum Ablauf des 31. Mai 2020 ausgesprochen \\nwerden würde, vereinbaren Arbeitgeber und Arbeitnehmer (im Folgenden auch: „Die Parteien“)  \\nim Nachgang zu den zwischen ihnen geführten Gesprächen Folgendes:  \\n \\n1. Die Parteien sind sich darüber einig, dass das Arbeitsverhältnis auf Veranlassung des Ar-\\nbeitgebers mit Ablauf des 31. Mai 2020 enden wird. \\n  \\n2. Der Arbeitnehmer wird mit sofortiger Wirkung bis zum Beendigungszeitpunkt unter Anrech-\\nnung von be- und entstehenden Urlaubs- und sonstigen Freizeitansprüchen unwiderruflich \\nvon der Verpflichtung zur Erbringung der Arbeitsleistung freigestellt. Die Parteien sind sich'), Document(metadata={'source': 'bendig\\\\Angebot Aufhebungsvertrag.pdf', 'page': 1, 'page_label': '2'}, page_content='nung von be- und entstehenden Urlaubs- und sonstigen Freizeitansprüchen unwiderruflich \\nvon der Verpflichtung zur Erbringung der Arbeitsleistung freigestellt. Die Parteien sind sich \\nim Übrigen darüber einig, dass der Arbeitnehmer seinen Urlaub für das Kalenderjahr 2020 \\nvollständig beantragt, bewilligt bekommen und in Anspruch genommen hat. \\n \\n3. Während der Dauer der Freistellung bezahlt der Arbeitgeber dem Arbeitnehmer eine monat-\\nliche Vergütung in Höhe von EUR 5.400,00 brutto; weitere oder andere Vergütungsansprü-\\nche hat der Arbeitnehmer nicht, sofern nicht in dieser Vereinbarung etwas anderes geregelt \\nist. Eine während der Freistellung vo n dem Arbeitnehmer durch anderweitige Verwendung \\nseiner Dienste erworbene Vergütung, über die der Arbeitnehmer den Arbeitgeber ohne wei-\\ntere Aufforderung jeweils unverzüglich zu unterrichten hat, wird auf die nach Satz 1 zu zah-\\nlende Vergütung angerechnet. Während der Dauer der Freistellung gelten das vertragliche'), Document(metadata={'source': 'bendig\\\\Angebot Aufhebungsvertrag.pdf', 'page': 1, 'page_label': '2'}, page_content='tere Aufforderung jeweils unverzüglich zu unterrichten hat, wird auf die nach Satz 1 zu zah-\\nlende Vergütung angerechnet. Während der Dauer der Freistellung gelten das vertragliche \\nWettbewerbsverbot sowie die vertragliche und ges etzliche Verschwiegenheitspflicht unver-\\nändert fort. \\n \\n4. Die Parteien sind sich insbesondere darüber einig, dass die tatsächlichen Voraussetzungen \\nfür jedwede Sonderzahlungen für die Geschäftsjahre 2019 und 2020 – insbesondere Bonus- \\nund Sonderbonusansprüche – jeweils nicht vorliegen und über ggf. bereits geleistete Son-\\nderzahlungen hinaus keine weiteren Sonderzahlungen an den Arbeitnehmer geleistet wer-\\nden müssen. Vorsorglich werden ggf. bestehende Ansprüche des Arbeitnehmers auf Son-\\nderzahlungen hiermit ausgeschlossen.'), Document(metadata={'source': 'bendig\\\\Angebot Aufhebungsvertrag.pdf', 'page': 2, 'page_label': '3'}, page_content='Datum: 22. April 2020 Seite 3 von 5 \\nAufhebungsvertrag: EBE Elektro-Bau-Elemente GmbH / Ralf Bendig  \\n \\n5. Der Arbeitgeber verpflichtet sich, dem Arbeitnehmer in entsprechender Anwendung der §§ 9, \\n10 Kündigungsschutzgesetz für den Verlust des Arbeitsplatzes eine Abfindung in Höhe von \\nEUR 7.650 brutto zu bezahlen. Die auf die Abfindung entfallenden Steuern trägt der Arbeit-\\nnehmer. Der Abfindungsanspruch entsteht sofort, ist damit vererblich und wird spätestens in \\ndem auf die rechtliche Beendigung des Arbeitsverhältnisses folgenden Monats zur Zahlu ng \\nfällig.   \\n \\n6. Der Arbeitnehmer ist berechtigt, das Arbeitsverhältnis seinerseits durch schriftliche Erklärung \\nmit einer Ankündigungsfrist von sieben Tagen vorzeitig zu beenden. Auch diese vorzeitige \\nBeendigung erfolgt auf Veranlassung des Arbeitgebers und liegt in dessen Interesse. Für \\ndiesen Fall der vorzeitigen Beendigung des Arbeitsverhältnisses erhöht der Arbeitgeber die'), Document(metadata={'source': 'bendig\\\\Angebot Aufhebungsvertrag.pdf', 'page': 2, 'page_label': '3'}, page_content='Beendigung erfolgt auf Veranlassung des Arbeitgebers und liegt in dessen Interesse. Für \\ndiesen Fall der vorzeitigen Beendigung des Arbeitsverhältnisses erhöht der Arbeitgeber die \\nin Ziff. 5 geregelte Sozialabfindung für jeden vollen Monat der vorzeitigen Beendigung des \\nArbeitsverhältnisses um 50 % derjenigen Bru ttovergütung (ausschließlich der Arbeitgeber-\\nbeiträge zum Gesamtsozialversicherungsbeitrag), welche der Arbeitnehmer andernfalls im \\nSinne vorstehender Ziff. 3 bis zum 31. Juli 2020 hätte beanspruchen können. Die Regelun-\\ngen gemäß Ziff. 5 Satz 2 und 3 gelten in diesem Fall entsprechend. \\n \\n7. Der Arbeitgeber verpflichtet sich, dem Arbeitnehmer unter dem Datum der rechtlichen Been-\\ndigung des Arbeitsverhältnisses ein wohlwollend formuliertes Arbeitszeugnis zu erteilen.  \\n \\n8. Der Arbeitnehmer ist verpflichtet, unverzüglich ab Freistellung sämtliche in seinem Besitz \\nbefindlichen und dem Arbeitgeber bzw. den mit diesem verbundenen Unternehmen gehö-'), Document(metadata={'source': 'bendig\\\\Angebot Aufhebungsvertrag.pdf', 'page': 2, 'page_label': '3'}, page_content='8. Der Arbeitnehmer ist verpflichtet, unverzüglich ab Freistellung sämtliche in seinem Besitz \\nbefindlichen und dem Arbeitgeber bzw. den mit diesem verbundenen Unternehmen gehö-\\nrenden Gegenstände, Waren, Geräte, Datenträger, Daten, Dateien, Computerprogramme, \\nUnterlagen, Materialien, Urkunden, Aufzeichnungen, Notizen, Entwürfe sowie hiervon gefer-\\ntigte Durchschriften oder Kopien sowie alle Zugangskarten, Schlüssel, Geräte, Datenträger, \\nZeiterfassungs- und Zugangschips, Zugangskarten und Schlüssel in funktionsfähigem Zu-\\nstand an den Arbeitgeber an dessen Sitz herauszugeben. \\n \\n9. Der Arbeitnehmer ist ferner verpflichtet, sämtliche elektronische Daten, die den Arbeitgeber \\noder die mit ihm verbundenen Unternehmen betreffen und auf einem nicht an den Arbeitge-\\nber zurückzugebenden Speichermedium gespeichert sind, revisionssicher zu löschen und \\nden Löschvorgang auf Aufforderung des Arbeitgebers schriftlich zu bestätigen.'), Document(metadata={'source': 'bendig\\\\Angebot Aufhebungsvertrag.pdf', 'page': 2, 'page_label': '3'}, page_content='ber zurückzugebenden Speichermedium gespeichert sind, revisionssicher zu löschen und \\nden Löschvorgang auf Aufforderung des Arbeitgebers schriftlich zu bestätigen.  \\n \\n10. Ein nachvertragliches Wettbewerbsverbot haben die Parteien nicht vereinbart, weshalb An-\\nsprüche des Arbeitnehmers auf Bezahlung einer Karenzentschädigung ausgeschlossen \\nsind. Vorsorglich heben die Parteien jegliche Vereinbarungen mit sofortiger Wirkung auf, die \\ndie Rechtsfolgen eines nachvertraglichen Wettbewerbsverbots bzw. den Anspruch de r Ar-\\nbeitnehmer auf Bezahlung einer Karenzentschädigung auslösen könnten.  \\n \\n11. Wenn und soweit im Zeitpunkt der Beendigung des Arbeitsverhältnisses ein unverfallbarer \\nAnspruch auf eine betriebliche Altersversorgung besteht, wird dieser Anspruch durch die vor-\\nliegende Vereinbarung nicht berührt.  \\n \\n12. Die Parteien sind sich darüber einig, dass die tatsächlichen Voraussetzungen für Ansprüche'), Document(metadata={'source': 'bendig\\\\Angebot Aufhebungsvertrag.pdf', 'page': 2, 'page_label': '3'}, page_content='liegende Vereinbarung nicht berührt.  \\n \\n12. Die Parteien sind sich darüber einig, dass die tatsächlichen Voraussetzungen für Ansprüche \\ndes Arbeitnehmers nach dem ArbnErfG nicht vorliegen, weshalb Ansprüche des Arbeitneh-\\nmers nach dem ArbnErfG ausgeschlossen sind.'), Document(metadata={'source': 'bendig\\\\Angebot Aufhebungsvertrag.pdf', 'page': 3, 'page_label': '4'}, page_content='Datum: 22. April 2020 Seite 4 von 5 \\nAufhebungsvertrag: EBE Elektro-Bau-Elemente GmbH / Ralf Bendig  \\n \\n13. Der Arbeitnehmer ist verpflichtet, über alle Geschäfts- und Betriebsgeheimnisse des Arbeit-\\ngebers und der mit diesem im Sinne des § 15 AktG verbundenen Unternehmen, insbeson-\\ndere über deren Produktinformationen, Kundeninformationen, Lieferanteninformationen, \\nVertriebswege und dergleichen auch künftig Stillschweigen zu bewahren, s oweit nicht eine \\ngesetzliche oder behördliche Pflicht zur Offenbarung besteht oder soweit die Offenbarung \\nnicht zur Wahrnehmung berechtigter Interessen gegenüber zur Berufsverschwiegenheit Ver-\\npflichteten erfolgt.  \\n \\nIm Zweifel sind sämtliche, insbesondere kaufmännischen, technischen oder personenbezo-\\ngenen Vorgänge und Verhältnisse, die der Arbeitnehmer im Zusammenhang mit seiner Tä-\\ntigkeit bekannt gemacht worden sind, als Geschäfts - und Betriebsgeheimnisse sowohl des'), Document(metadata={'source': 'bendig\\\\Angebot Aufhebungsvertrag.pdf', 'page': 3, 'page_label': '4'}, page_content='genen Vorgänge und Verhältnisse, die der Arbeitnehmer im Zusammenhang mit seiner Tä-\\ntigkeit bekannt gemacht worden sind, als Geschäfts - und Betriebsgeheimnisse sowohl des \\nArbeitgebers als auch der mit diesem im Sinne des § 15 AktG verbundenen Unternehmen \\nzu behandeln, sofern der Arbeitgeber deren Offenbarung nicht ausdrücklich gestattet hat o-\\nder die jeweiligen Vorgänge und Informationen nicht allgemein jedermann zugänglich sind.   \\n \\n14. Beide Parteien verpflichten sich, jegliche negativen Äußerungen über die jeweils andere Par-\\ntei zu unterlassen. \\n \\n15. Der Arbeitnehmer wurde vom Arbeitgeber darauf hingewiesen, dass er sich, sollte er Arbeits-\\nlosengeld in Anspruch nehmen wollen, unverzüglich, spätestens jedoch drei Monate vor der \\nrechtlichen Beendigung des Arbeitsverhältnisses persönlich bei der für ihn zuständigen \\nAgentur für Arbeit arbeitssuchend zu melden hat. Er wurde ferner darüber belehrt, dass der'), Document(metadata={'source': 'bendig\\\\Angebot Aufhebungsvertrag.pdf', 'page': 3, 'page_label': '4'}, page_content='rechtlichen Beendigung des Arbeitsverhältnisses persönlich bei der für ihn zuständigen \\nAgentur für Arbeit arbeitssuchend zu melden hat. Er wurde ferner darüber belehrt, dass der \\nAbschluss dieser Vereinbarung den Anspruch auf Arbeitslosengeld beeinträchtigen kann, \\nweil dieser die Anordnung einer Ruhens- und/oder Sperrzeit zur Folge haben kann. Der Ar-\\nbeitnehmer erklärt, dass er sich über die Folgen einer Ruhens- bzw. Sperrzeit selbst ander-\\nweitig informieren wird, und dass er auf weitere Belehrungen durch den Arbeitgeber verzich-\\ntet. \\n \\n16. Die Parteien sind sich darüber einig, dass mit dieser Vereinbarung alle wechselseitigen fi-\\nnanziellen Ansprüche aus oder in Verbindung mit dem Arbeitsverhältnis oder aus Anlass von \\ndessen Beendigung erledigt sind, sofern vorstehend nicht etwas Abweichendes geregelt ist. \\nDie Parteien nehmen den damit eventuell verbundenen Verzicht wechselseitig an. Es besteht'), Document(metadata={'source': 'bendig\\\\Angebot Aufhebungsvertrag.pdf', 'page': 3, 'page_label': '4'}, page_content='dessen Beendigung erledigt sind, sofern vorstehend nicht etwas Abweichendes geregelt ist. \\nDie Parteien nehmen den damit eventuell verbundenen Verzicht wechselseitig an. Es besteht \\nzwischen den Parteien weiter Einigkeit darüber, dass keine Tatsachen vorliegen, aus denen \\nweitere oder andere als die in dieser Vereinbarung geregelten Ansprüche hergeleitet werden \\nkönnten.  \\n \\n17. Nebenabreden zu dieser Vereinbarung bestehen nicht. Änderu ngen und Ergänzungen be-\\ndürfen zu ihrer Wirksamkeit der Schriftform. Dies gilt auch für die Aufhebung dieses Schrift-\\nformerfordernisses. Individualvereinbarungen zwischen den Parteien im Sinne von § 305b \\nBGB haben Vorrang und sind formlos wirksam.'), Document(metadata={'source': 'bendig\\\\Angebot Aufhebungsvertrag.pdf', 'page': 4, 'page_label': '5'}, page_content='Datum: 22. April 2020 Seite 5 von 5 \\nAufhebungsvertrag: EBE Elektro-Bau-Elemente GmbH / Ralf Bendig  \\n \\n18. Sollte eine Bestimmung dieser Vereinbarung unwirksam sein oder werden, wird die Wirk-\\nsamkeit der übrigen Bestimmungen davon nicht berührt. Die Parteien verpflichten sich für \\ndiesen Fall, anstelle einer unwirksamen Bestimmung eine dieser Bestimmung möglichst na-\\nhekommende wirksame Regelung zu treffen. \\n \\n \\nDer Arbeitnehmer erklärt, diese Vereinbarung sorgfältig gelesen, sie verstanden und ohne zeitli-\\nchen Druck unterzeichnet zu haben. \\n \\n \\n \\nLeinfelden-Echterdingen, 27. April 2020 \\n \\n \\n \\n \\n \\nDr. Gerd Fricke  Armin Wellhöfer  Ralf Bendig \\nGeschäftsführer  Geschäftsführer  Arbeitnehmer'), Document(metadata={'source': 'bendig\\\\Angebot Gratifikation_Urlaubsgeld.pdf', 'page': 0, 'page_label': '1'}, page_content='From: Remann SvenjaSvenja.Remann@ebe.de\\nSubject: AW: Gratiﬁkation\\nDate: 2. May 2020 at 09:45\\nTo: ralf.bendig@gmx.net\\nGuten Morgen Ralf, \\nich habe mich noch einmal mit Herrn Wellhöfer besprochen und wir sind übereingekommen, dir das anteilige Urlaubsgeld zu\\nbezahlen. Das Urlaubsgelt beträgt 2.250 € ( 5.400 € / 2 = 2.700 € / 6 Mo. x 5 Mo. = 2.250 €). Diesen Betrage habe ich dir auf\\ndie Abﬁndungssumme oben drauf gesetzt. Somit hast du einen Abﬁndungsanspruch von 5.400 €+ 2.250 € = 7.650 €. \\nAn das Angebot halten wir uns bis zum 06. Mai gebunden. Bitte gib mir Rückmeldung ob du damit einverstanden bist, dann gebe\\nich es weiter an Herrn Dr. Fricke. \\nViele Grüße \\nSvenja \\nMit freundlichen Grüßen\\nSvenja Remann\\nPersonalreferentin\\nTel.: +49 711 79986 - 275\\nMobil: +49 162 252 1855\\nFax: +49 711 79986-8275\\nE-Mail: Svenja.Remann@ebe.de\\n-----Ursprüngliche Nachricht-----\\nVon: Ralf Bendig <rbmaster@gmx.de> Im Auftrag von ralf.bendig@gmx.net\\nGesendet: Montag, 27. April 2020 16:46'), Document(metadata={'source': 'bendig\\\\Angebot Gratifikation_Urlaubsgeld.pdf', 'page': 0, 'page_label': '1'}, page_content='Fax: +49 711 79986-8275\\nE-Mail: Svenja.Remann@ebe.de\\n-----Ursprüngliche Nachricht-----\\nVon: Ralf Bendig <rbmaster@gmx.de> Im Auftrag von ralf.bendig@gmx.net\\nGesendet: Montag, 27. April 2020 16:46\\nAn: Remann Svenja <Svenja.Remann@ebe.de>\\nBetreff: Gratiﬁkation \\nHallo Svenja,\\nwie besprochen bitte Vertragsbestandteil §5 Gratiﬁkation klären und die Aufhebungsvereinbarung entsprechend anpassen.\\nDanke\\nGrüße Ralf\\nBendig, \\nRalf_Au…_V2.pdf'), Document(metadata={'source': 'bendig\\\\EBE Arbeitsvertrag Ralf Bendig 2017[110].pdf', 'page': 0, 'page_label': '1'}, page_content='ARBEITSVERTRAG \\n \\n \\n \\nzwischen \\n \\n  Fa. EBE Elektro-Bau-Elemente GmbH, \\n  Sielminger Str. 63, 70771 Leinfelden-Echterdingen \\n \\n \\n- EBE - \\n \\n \\n \\n \\nund \\n \\n \\n \\n  Herrn Ralf Bendig \\n  Bachstraße 24/1, 71229 Leonberg \\n \\n \\n \\n- Mitarbeiter - \\n \\n \\n \\n \\n§ 1 \\nBeginn des Arbeitsverhältnisses / Probezeit \\n \\n1. Der Mitarbeiter tritt ab 01.04.2018 in die Dienste der EBE. \\n \\n2. Die ersten sechs Monate gelten als Probezeit. Während dieser \\nZeit kann das Arbeitsverhältnis beiderseits mit einer Frist von zwei \\nWochen gekündigt werden. Vor der Arbeitsaufnahm e kann das \\nArbeitsverhältnis nicht ordentlich gekündigt werden.'), Document(metadata={'source': 'bendig\\\\EBE Arbeitsvertrag Ralf Bendig 2017[110].pdf', 'page': 1, 'page_label': '2'}, page_content='2 \\n \\n§ 2 \\nTätigkeit \\n \\n1. Der Mitarbeiter wird als Systemadministrator in der EBE -Group \\neingestellt. Der Arbeitsort ist Leinfelden-Echterdingen. \\n \\n2. EBE behält sich vor, dem Mita rbeiter andere gleichwertige  Tätig-\\nkeiten / Aufgaben, im Bedarfsfall auch an einem anderen Arbeit s-\\nort, zuzuweisen.  Die persönlichen Belange des Mitarbeiters we r-\\nden angemessen berücksichtigt. \\n \\n \\n§ 3 \\nArbeitszeit \\n \\n1. Die regelmäßige Arbeitszeit beträgt wöchentlich 40 Stunden. \\n \\n2. Beginn und Ende der täglichen Arbeitszeit sowie die Pausen -\\nregelung richten sich nach der betrieblichen Ordnung. Die Gleit -\\nzeitvereinbarungen sind Bestandteil dieses Vertrages. \\n \\n3. Der Mitarbeiter ist verpflichtet, auf Anordnung von EBE Mehrar-\\nbeits- und Überstunden zu leisten. Darüber hinaus ist er verpflic h-\\ntet, Nacht -, Schicht -, Samstags -, Sonn tags- und Feiertagsarbeit \\nsowie Arbeitsbereitschaft und Bereitschaftsdienst im  gesetzlich zu-\\nlässigen Umfang zu leisten.'), Document(metadata={'source': 'bendig\\\\EBE Arbeitsvertrag Ralf Bendig 2017[110].pdf', 'page': 2, 'page_label': '3'}, page_content='3 \\n4. EBE ist berechtigt, Kurzarbeit anzuordnen, sowe it ein auf wirt -\\nschaftlichen oder betrieblichen Gründen oder auf einem un ab-\\nwendbaren Ereignis beruhender Arbeitsausfall auftritt. Für die \\nDauer der Kurzarbeit vermindert sich das Brutto -Gehalt ent -\\nsprechend. \\n \\n \\n§ 4 \\nVergütung \\n \\n1. Der Mitarbeiter er hält eine monatlich am Monatsende zahlbare \\nBrutto-Vergütung in Höhe von €  5.400,00. Über die Höhe des En t-\\ngelts ist Stillschweigen zu bewahren.  \\n \\n2. Mit dem vereinbarten Brutto -Gehalt sind Mehr-  und Überarbeit bis \\nzu 1 0 Stunden monatlich abgegolten. Darüber hinausgehende \\nStunden sind durch Freizeit auszugleichen. \\n \\n \\n§ 5 \\nGratifikation \\n \\n1. Der Mitarbeiter erhält mit der Vergütung für den Monat Juni zusätz-\\nlich eine Urlaubsgratifikation von 50  % des Brutto -Gehaltes. Mit \\ndem Gehalt für November wird zusätzlich eine Weihnachts -\\ngratifikation von 50 % des Brutto-Gehaltes ausbezahlt.  \\n \\n2. Nach der Probezeit gewährt EBE  dem Mitarbeiter vermögenswirk -'), Document(metadata={'source': 'bendig\\\\EBE Arbeitsvertrag Ralf Bendig 2017[110].pdf', 'page': 2, 'page_label': '3'}, page_content='dem Gehalt für November wird zusätzlich eine Weihnachts -\\ngratifikation von 50 % des Brutto-Gehaltes ausbezahlt.  \\n \\n2. Nach der Probezeit gewährt EBE  dem Mitarbeiter vermögenswirk -\\nsame Leistungen in Höhe von monatlich €  27,00, sofern der Mitar -\\nbeiter einen entsprechenden Vertrag nachweist.'), Document(metadata={'source': 'bendig\\\\EBE Arbeitsvertrag Ralf Bendig 2017[110].pdf', 'page': 3, 'page_label': '4'}, page_content='4 \\n3. Die Zuwendungen nach Ab s. 1 sind freiwillige Leistungen . Auch \\nbei wiederholter Zahlung besteht hierauf kein Rechtsanspruch.  Sie \\nentfällt für krankheitsbedingte Fehlzeiten, für die kein Anspruch auf \\nEntgeltfortzahlung besteht.  \\n \\n4. Bei unterjährigem Beginn oder Ende des Arbeitsverhältnisses wird \\ndie Gratifikation vorbehaltlich Abs. 3 zeitanteilig bezahlt.  \\n \\n \\n§ 6 \\nReisekosten \\n \\n Die Erstattung von A ufwendungen, die dem Mitarbeiter in Au s-\\nübung seiner Aufgaben im Rahmen dieses Vertrages entstehen, \\neinschließlich Reise- und Bewirtungskosten, richtet sich nach den \\njeweils geltenden internen Richtlinien der EBE  und nach den g e-\\nsetzlichen Vorschriften. \\n \\n \\n§ 7 \\nDienstverhinderung \\n \\n1. Jede Dienstverhinderung, deren voraussichtl iche Dauer und der \\nGrund ist EBE sofort nach Kenntnis anzuzeigen. \\n \\n2. Erkrankt der Mitarbeiter länger als zwei Tage, ist spätestens am \\ndritten Tag nach dem Beginn der Dienstverhinderung ei ne ärztl i-'), Document(metadata={'source': 'bendig\\\\EBE Arbeitsvertrag Ralf Bendig 2017[110].pdf', 'page': 3, 'page_label': '4'}, page_content='Grund ist EBE sofort nach Kenntnis anzuzeigen. \\n \\n2. Erkrankt der Mitarbeiter länger als zwei Tage, ist spätestens am \\ndritten Tag nach dem Beginn der Dienstverhinderung ei ne ärztl i-\\nche Bescheinigung über die Arbeitsunfähigkeit und deren vorau s-\\nsichtliche Dauer vorzulegen. Eine neue Bescheinigung ist jeweils \\nam Tage nach Ablauf der vorher bescheinigten Arbeitsunfähi g-'), Document(metadata={'source': 'bendig\\\\EBE Arbeitsvertrag Ralf Bendig 2017[110].pdf', 'page': 4, 'page_label': '5'}, page_content='5 \\nkeitsdauer zu übermitteln. EBE  behält sich vor, bereits am ersten \\nTag der Arbeitsunfähigkeit eine ärztliche Bescheinigung zu verla n-\\ngen. \\n \\n3. Ist der Mitarbeiter an der Arbeitsleistung wegen einer unverschul -\\ndeten Krankheit verhindert, so erhält er Entgeltfortzahlung nach \\nden gesetzlichen Bestimmungen. EBE  ist berec htigt, die Ver -\\ngütungsfortzahlung  zurückzubehalten, bis die Arbeitsunfähigkeits -\\nbescheinigung eingeht. \\n \\n4. Bei fremd verschuldeter Arbeitsunfähigkeit ist der Schädiger u n-\\nverzüglich mit allen dazugehörigen Angaben bekanntzugeben. Der \\nMitarbeiter tritt bere its jetzt seine Schadensersatzansprüche für \\nden Fall und insoweit ab, als er schuldhaft durch Dritte verletzt wird \\nund er infolge der Arbeitsunfähigkeit seine Bezüge ganz oder tei l-\\nweise von EBE weiter erhält. \\n \\n \\n§ 8 \\nUrlaub \\n \\n1. Der Urlaub beträgt jährlich 30 Arbeitstage. Er setzt sich zusammen \\naus dem Mindesturlaub  von 20 Arbeitstagen nach dem Bundes -'), Document(metadata={'source': 'bendig\\\\EBE Arbeitsvertrag Ralf Bendig 2017[110].pdf', 'page': 4, 'page_label': '5'}, page_content='weise von EBE weiter erhält. \\n \\n \\n§ 8 \\nUrlaub \\n \\n1. Der Urlaub beträgt jährlich 30 Arbeitstage. Er setzt sich zusammen \\naus dem Mindesturlaub  von 20 Arbeitstagen nach dem Bundes -\\nurlaubsgesetz, der vorrangig zu nehmen und zu gewähren ist, und \\n10 weiteren Arbeitstagen. Sofern sich die gesetzlichen Urlaubs -\\nansprüche nach dem Bundesurlaubsge setz erhöhen, reduzieren \\nsich die vertraglichen Zusatzurlaubsansprüche im Verhältnis ent -\\nsprechend.'), Document(metadata={'source': 'bendig\\\\EBE Arbeitsvertrag Ralf Bendig 2017[110].pdf', 'page': 5, 'page_label': '6'}, page_content='6 \\n2. Bei berechtigter fristloser Entlassung und bei vertragswidriger Au f-\\nlösung des Arbeitsverhältnisses durch den Mitarbeiter wird der \\nüber den gesetzlichen  Anspruch von 20 Arbeitstagen  hinaus-\\ngehende Urlaubsanspruch für das laufende Jahr verwirkt. \\n \\n3. Der Urlaub ist von EBE  schriftlich zu genehmigen. Der Mitarbeiter \\nhat seinen Urlaub rechtzeitig vor dem beabsichtigten Urlaubsantritt \\nanzumelden. \\n \\n4. Der Urlau b muss im laufenden Kalenderjahr genommen werden. \\nEine Übertragung des Urlaubs auf das nächste Kalenderjahr ist \\nnur statthaft, wenn dringende betriebliche oder in der Person des \\nMitarbeiters liegende Gründe dies rechtfertigen. Im Fall der Übe r-\\ntragung muss der Urlaub in den ersten drei Monaten des folge n-\\nden Kalenderjahres genommen werden. Andernfalls verfällt der \\nUrlaub mit Ablauf des 31. März des folgenden Kalenderjahres, s o-\\nweit nicht durch zwingende gesetzliche Vorgaben etwas anderes \\nbestimmt wird.'), Document(metadata={'source': 'bendig\\\\EBE Arbeitsvertrag Ralf Bendig 2017[110].pdf', 'page': 5, 'page_label': '6'}, page_content='Urlaub mit Ablauf des 31. März des folgenden Kalenderjahres, s o-\\nweit nicht durch zwingende gesetzliche Vorgaben etwas anderes \\nbestimmt wird.  \\n \\n5. Kann der gesetzliche Urlaub wegen Beendigung des Arbeits -\\nverhältnisses ganz oder teilweise nicht mehr gewährt werden, so \\nist er abzugelten. In Bezug auf den gesetzlichen Urlaubsanspruch \\nbesteht ein Abgeltungsanspruch auch dann, wenn die Inanspruc h-\\nnahme wegen krankheitsbedingter Arbeitsunfähigkeit nicht bis zum \\nEnde des Kalenderjahres bzw. für den Fall der Übertragung bis \\nzum 31. März des folgenden Kalenderjahres erfolgt ist. Eine A b-\\ngeltung des übergesetzlichen Urlaubsanspruchs  ist ausgeschlo s-\\nsen.'), Document(metadata={'source': 'bendig\\\\EBE Arbeitsvertrag Ralf Bendig 2017[110].pdf', 'page': 6, 'page_label': '7'}, page_content='7 \\n§ 9 \\nBeendigung des Arbeitsverhältnisses \\n \\n1. Das Arbeitsverhältnis läuft auf unbefristete Zeit. Es endet, ohne \\ndass es einer Kündigung bedarf, mit Ablauf des Monats, in dem \\nder Mitarbeiter  die Altersgrenze für eine Regelaltersrente  in der \\ngesetzlichen Rentenversich erung erreicht hat oder in dem Zei t-\\npunkt, ab dem er eine Altersrente gleich aus welchem Rechts -\\ngrund, bezieht.  \\n \\n2. Eine Kündigung bedarf der Schriftform. Die Kündigungsfrist richtet \\nsich nach den gesetzlichen Bestimmungen. \\n \\n3. Nach Ausspruch einer Kündigu ng ist EBE befugt, den Mitarbeiter \\nvon der Arbeit freizustellen. Die Freistellung erfolgt unter Anrec h-\\nnung auf etwaige Überstun den und Erholungsurlaub . Auf die nach \\nAnrechnung etwaiger Überstunden und restlicher Urlaubsanspr ü-\\nche fortzuzahlenden Bezüge muss  sich der Mitarbeiter den Wert \\ndesjenigen anrechnen lassen, was er infolge des Unterbleibens \\nseiner Dienstleistung erspart oder durch anderweitige Ve rwendung'), Document(metadata={'source': 'bendig\\\\EBE Arbeitsvertrag Ralf Bendig 2017[110].pdf', 'page': 6, 'page_label': '7'}, page_content='che fortzuzahlenden Bezüge muss  sich der Mitarbeiter den Wert \\ndesjenigen anrechnen lassen, was er infolge des Unterbleibens \\nseiner Dienstleistung erspart oder durch anderweitige Ve rwendung \\nseiner Dienste erwirbt oder zu erwerben böswillig unterlässt.  \\n \\n4. Bei Beendigung des Arbeitsverhä ltnisses sind am letzten Tätig -\\nkeitstag alle Unte rlagen und Gegenstände an EBE  herauszuge-\\nben.'), Document(metadata={'source': 'bendig\\\\EBE Arbeitsvertrag Ralf Bendig 2017[110].pdf', 'page': 7, 'page_label': '8'}, page_content='8 \\n§ 10 \\nNebentätigkeiten \\n \\n1. Die Aufnahme einer anderweitigen Tätigkeit ist dem Mitarbeiter nur \\nnach vorheriger schriftlicher Zustimmung der EBE  gestattet. Hat  \\nder Mitarbeiter der EBE schriftlich die beabsichtigte Tätigkeit unter \\nAngabe von Art, Ort und Dauer angezeigt und stehen sachliche \\nGründe der Aufnahme der T ätigkeit nicht entgegen, hat EBE  un-\\nverzüglich zuzustimmen. EBE  kann die Zustimmung befristet oder \\nunter einem Widerrufsvorbehalt erteilen. \\n \\n2. Das Zustimmungserfordernis gemäß Abs.  1 besteht nicht für die \\nAufnahme karitativer, konfessioneller oder politischer Tätigkeiten, \\nsofern sie die Tätigkeit nach Maßgabe dieses Vertrags nicht beei n-\\nträchtigen.  \\n \\n \\n§ 11 \\nNutzung von E-Mail und Internet \\n \\n1. Die Nutzung der Kommunikationsmittel E -Mail und Internet hat \\nausschließlich zu dienstlichen Zwecken, d.h. zur Kommunikation \\nmit Geschäftspartnern und  zum Abruf nützlicher Geschäfts infor-\\nmationen zu erfolgen.'), Document(metadata={'source': 'bendig\\\\EBE Arbeitsvertrag Ralf Bendig 2017[110].pdf', 'page': 7, 'page_label': '8'}, page_content='ausschließlich zu dienstlichen Zwecken, d.h. zur Kommunikation \\nmit Geschäftspartnern und  zum Abruf nützlicher Geschäfts infor-\\nmationen zu erfolgen.  \\n \\n2. Das A brufen, Anbieten oder Verbreiten von rechtswidrigen Inha l-\\nten, insbesondere solchen, die gegen straf -, datenschutz-, persön-\\nlichkeits-, lizenz- oder urheberrechtliche Bestimmungen verstoßen \\nsowie von politischen, pornografischen, diskriminie renden, diff a-\\nmierenden oder verfassungsfeindlichen Inhalten ist unzulässig.'), Document(metadata={'source': 'bendig\\\\EBE Arbeitsvertrag Ralf Bendig 2017[110].pdf', 'page': 8, 'page_label': '9'}, page_content='9 \\n \\n3. Der Mitarbeiter i st damit einverstanden, dass EBE  die Einhaltung \\ndieser Grundsätze durch Einsatz elektronischer Abfragen übe r-\\nprüft. \\n \\n \\n§ 12 \\nDiensterfindungen \\n \\n Der Mitarbeiter verpflichtet sich , etwaige Erfindungen im Sinne g e-\\nsetzlicher Vorschriften über Arbeitnehmererfindungen dem Arbei t-\\ngeber unverzügl ich schriftlich mitzuteilen. EBE  ist berechtigt, i n-\\nnerhalb einer Frist von vier Monaten nach dieser Mitteilung zu e r-\\nklären, ob und in welchem Umf ang sie diese Erfindung in A n-\\nspruch nimmt. Für den Fall einer Inanspruchnahme der Erfindung \\nerhält der Mitarbeiter eine Vergütung gemäß den Bestimmungen \\ndes G esetzes über Arbeitnehmererfindungen und den hierzu e r-\\ngangenen Vergütungsrichtlinien. \\n \\n \\n§ 13 \\nVertragsstrafe \\n \\n1. Der Mitarbeiter hat für den Fall, dass er den Arbeitsvertrag nicht \\neinhält, indem er die Tätigkeit nicht zu dem vereinbarten Termin \\naufnimmt oder unter Verletzung der Kündigungsfrist beendet, eine'), Document(metadata={'source': 'bendig\\\\EBE Arbeitsvertrag Ralf Bendig 2017[110].pdf', 'page': 8, 'page_label': '9'}, page_content='einhält, indem er die Tätigkeit nicht zu dem vereinbarten Termin \\naufnimmt oder unter Verletzung der Kündigungsfrist beendet, eine \\nVertragsstrafe in  Höhe eines durchschnittlich en Bruttom onatsein-\\nkommens an EBE zu bezahlen.'), Document(metadata={'source': 'bendig\\\\EBE Arbeitsvertrag Ralf Bendig 2017[110].pdf', 'page': 9, 'page_label': '10'}, page_content='10 \\n2. Beträgt die Kündigungsfrist bei Entstehung des Vertrags strafen-\\nanspruchs weniger als einen Monat, so verringert s ich die Ve r-\\ntragsstrafe auf den  Bruttolohn, den der Mitarbeiter während der \\nKündigungsfrist verdient.  \\n \\n3. Die Geltendmachung von weiteren Schadensersatzansp rüchen \\nbleibt hiervon unberührt. \\n \\n \\n§ 14 \\nSonstige Bestimmungen \\n \\n1. Der Personalfragebogen ist Bestandteil des Arbeitsvertrages. Die \\nkorrekte Beantwortung der dort aufgeführten Fragen ist Vorau s-\\nsetzung für die Gültigkeit dieses Arbeitsvertrages. \\n \\n3. Bei berechtigtem Interesse der EBE ist der Mitarbeiter verpflichtet, \\nsich einer betriebsärztlichen Untersuchung, insbesondere zur Fest-\\nstellung seiner gesundheitlichen Eignung für die vorgesehene od er \\nausgeübte Tätigkeit, zu unterziehen.  \\n \\n4. Alle Änderungen der persönlichen Verhältnisse, soweit sie für das \\nArbeitsverhältnis von Bedeutung sind, insbesondere ein Wechsel \\nder Anschrift sowie der Führerscheinverlust sind der Personal -'), Document(metadata={'source': 'bendig\\\\EBE Arbeitsvertrag Ralf Bendig 2017[110].pdf', 'page': 9, 'page_label': '10'}, page_content='4. Alle Änderungen der persönlichen Verhältnisse, soweit sie für das \\nArbeitsverhältnis von Bedeutung sind, insbesondere ein Wechsel \\nder Anschrift sowie der Führerscheinverlust sind der Personal -\\nabteilung ohne beson dere Aufforderung unverzüglich mitzuteilen. \\nIst eine Änderung der Anschrift nicht ordnungsgemäß gemeldet, \\ngelten die Mitteilungen von EBE  in dem Zeitpunkt als zugegangen, \\nin dem sie den Mitarbeiter unter der zuletzt angegebenen Anschrift \\nerreicht hätten.'), Document(metadata={'source': 'bendig\\\\EBE Arbeitsvertrag Ralf Bendig 2017[110].pdf', 'page': 10, 'page_label': '11'}, page_content='11 \\n§ 15 \\nAusschlussfrist \\n \\n1. Sämtliche Ansprüche, die die vertragsschließenden Parteien g e-\\ngenüber dem jeweils anderen Vertragspartner geltend machen \\nwollen, müssen innerhalb einer Frist von drei Monaten nach Fällig-\\nkeit des jeweiligen Anspruchs in Textform gegenüber der je weils \\nanderen Vertragspartei geltend gemacht werden. Anson sten sind \\ndiese Ansprüche verfallen. \\n \\n2. Reagiert der jeweils andere Vertragspartner auf die Geltend -\\nmachung der Ansprüche nicht innerhalb von zwei Wochen oder \\nabschlägig, so muss der j eweilige Anspruch innerhalb einer weit e-\\nren Frist von drei Monaten  nach dem Frist ablauf oder der Ableh-\\nnung, gerichtlich geltend gemacht werden. Ansonsten verfällt der \\nbehauptete Anspruch. \\n \\n3. Ausgenommen hiervon ist der Anspruch auf Rückzahlung eines \\neventuell gewährten Arbeitgeberdarlehens. \\n  \\n \\n§ 16 \\nBestand des Vertrages \\n \\n Sollten einzelne Vertragsbestimmungen unwirksam sein, so sind'), Document(metadata={'source': 'bendig\\\\EBE Arbeitsvertrag Ralf Bendig 2017[110].pdf', 'page': 10, 'page_label': '11'}, page_content='eventuell gewährten Arbeitgeberdarlehens. \\n  \\n \\n§ 16 \\nBestand des Vertrages \\n \\n Sollten einzelne Vertragsbestimmungen unwirksam sein, so sind \\nsich die Vertragsparteien bereits jetzt darüber einig, dass der Ve r-\\ntrag im Übrigen wirksam bleibt. Die unwirksame Bestimmung wird \\ndurch eine wirksame ersetzt, die dem wirtschaftlich Gewollten  am \\nnächsten kommt.'), Document(metadata={'source': 'bendig\\\\EBE Arbeitsvertrag Ralf Bendig 2017[110].pdf', 'page': 11, 'page_label': '12'}, page_content='12 \\n§ 17 \\nVertragsaushändigung \\n \\n Die Vertragsparteien erklären, eine schriftliche Ausfertigung dieses \\nVertrages erhalten zu haben. \\n \\n \\n \\n \\n \\n \\n \\n...................................                                                                 ................................... \\nOrt, Datum Ort, Datum \\n \\n \\n \\n \\n \\n.......................................................... ................................... \\nEBE Elektro-Bau-Elemente GmbH Mitarbeiter')]\n"
     ]
    }
   ],
   "source": [
    "print(texts)"
   ]
  },
  {
   "cell_type": "markdown",
   "metadata": {},
   "source": [
    "Embed and store the embedding\n"
   ]
  },
  {
   "cell_type": "code",
   "execution_count": 11,
   "metadata": {},
   "outputs": [
    {
     "name": "stderr",
     "output_type": "stream",
     "text": [
      "C:\\Users\\letie\\AppData\\Local\\Temp\\ipykernel_15992\\3519870821.py:5: LangChainDeprecationWarning: The class `OpenAIEmbeddings` was deprecated in LangChain 0.0.9 and will be removed in 1.0. An updated version of the class exists in the :class:`~langchain-openai package and should be used instead. To use it run `pip install -U :class:`~langchain-openai` and import as `from :class:`~langchain_openai import OpenAIEmbeddings``.\n",
      "  embedding = OpenAIEmbeddings()\n"
     ]
    }
   ],
   "source": [
    "#supplying a persist_directory will store embedding on disk\n",
    "persist_directory = \"db1\"\n",
    "\n",
    "## OpenAIEmbeddings\n",
    "embedding = OpenAIEmbeddings()\n",
    "\n",
    "vectordb = Chroma.from_documents(documents=texts, embedding=embedding, persist_directory=persist_directory)\n"
   ]
  },
  {
   "cell_type": "markdown",
   "metadata": {},
   "source": [
    "Make a retriever"
   ]
  },
  {
   "cell_type": "code",
   "execution_count": 31,
   "metadata": {},
   "outputs": [],
   "source": [
    "retriever = vectordb.as_retriever()\n",
    "\n",
    "corrected_documents= retriever.get_relevant_documents(\"Wer ist Bendig?\")"
   ]
  },
  {
   "cell_type": "code",
   "execution_count": 32,
   "metadata": {},
   "outputs": [
    {
     "data": {
      "text/plain": [
       "4"
      ]
     },
     "execution_count": 32,
     "metadata": {},
     "output_type": "execute_result"
    }
   ],
   "source": [
    "len(corrected_documents)"
   ]
  },
  {
   "cell_type": "code",
   "execution_count": 14,
   "metadata": {},
   "outputs": [],
   "source": [
    "retriever = vectordb.as_retriever(search_kwargs={ \"k\": 8})"
   ]
  },
  {
   "cell_type": "code",
   "execution_count": 15,
   "metadata": {},
   "outputs": [
    {
     "data": {
      "text/plain": [
       "'similarity'"
      ]
     },
     "execution_count": 15,
     "metadata": {},
     "output_type": "execute_result"
    }
   ],
   "source": [
    "retriever.search_type"
   ]
  },
  {
   "cell_type": "code",
   "execution_count": 16,
   "metadata": {},
   "outputs": [
    {
     "data": {
      "text/plain": [
       "{'k': 8}"
      ]
     },
     "execution_count": 16,
     "metadata": {},
     "output_type": "execute_result"
    }
   ],
   "source": [
    "retriever.search_kwargs"
   ]
  },
  {
   "cell_type": "markdown",
   "metadata": {},
   "source": [
    "Make a chain"
   ]
  },
  {
   "cell_type": "code",
   "execution_count": 17,
   "metadata": {},
   "outputs": [
    {
     "name": "stderr",
     "output_type": "stream",
     "text": [
      "C:\\Users\\letie\\AppData\\Local\\Temp\\ipykernel_15992\\2802410121.py:1: LangChainDeprecationWarning: Please see the migration guide at: https://python.langchain.com/docs/versions/migrating_memory/\n",
      "  memory = ConversationBufferMemory(\n"
     ]
    }
   ],
   "source": [
    "memory = ConversationBufferMemory(\n",
    "    memory_key=\"chat_history\", \n",
    "    return_messages=True,\n",
    "    output_key=\"result\"  # Hier wird festgelegt, dass nur \"result\" gespeichert wird\n",
    ")\n"
   ]
  },
  {
   "cell_type": "code",
   "execution_count": 33,
   "metadata": {},
   "outputs": [],
   "source": [
    "from langchain.prompts import PromptTemplate\n",
    "from langchain.chains import RetrievalQA\n",
    "from langchain.llms import OpenAI\n",
    "\n",
    "# Definiere dein individuelles Prompt-Template\n",
    "custom_prompt = PromptTemplate(\n",
    "    input_variables=[\"context\", \"question\"],\n",
    "    template=\"Beantworte die folgende Frage basierend auf dem gegebenen Kontext:\\n\\n\"\n",
    "             \"Kontext:\\n{context}\\n\\n\"\n",
    "             \"Frage: {question}\\n\\n\"\n",
    "             \"Antwort:\"\n",
    ")\n",
    "\n",
    "# RetrievalQA mit dem benutzerdefinierten Prompt\n",
    "qa_chain = RetrievalQA.from_chain_type(\n",
    "    llm=OpenAI(),\n",
    "    chain_type=\"stuff\",\n",
    "    retriever=retriever,\n",
    "    return_source_documents=True,\n",
    "    memory=memory,\n",
    "    chain_type_kwargs={\"prompt\": custom_prompt}  # Hier wird das Prompt eingebunden\n",
    ")\n"
   ]
  },
  {
   "cell_type": "code",
   "execution_count": 34,
   "metadata": {},
   "outputs": [],
   "source": [
    "qa_chain = RetrievalQA.from_chain_type (llm = OpenAI(),\n",
    "                                       chain_type=\"stuff\",\n",
    "                                       retriever=retriever,\n",
    "                                       return_source_documents=True,\n",
    "                                       memory=memory)"
   ]
  },
  {
   "cell_type": "code",
   "execution_count": 35,
   "metadata": {},
   "outputs": [],
   "source": [
    "def process_llm_response(llm_response):\n",
    "    print(llm_response['result'])\n",
    "    print('\\n\\nQuellen:')\n",
    "    for source in llm_response[\"source_documents\"]:\n",
    "        print(source.metadata.get('file path', 'Unbekannte Quelle'))\n"
   ]
  },
  {
   "cell_type": "code",
   "execution_count": null,
   "metadata": {},
   "outputs": [
    {
     "name": "stdout",
     "output_type": "stream",
     "text": [
      " Am Ende seines Falles hat Bendig ein wohlwollendes, qualifiziertes Endzeugnis mit einer Führungs- und Leistungsbeurteilung mit der Note sehr gut, im Sozialverhalten \"stets vorbildlich\" und dem Grund des Ausscheidens \"auf eigenen Wunsch\" erhalten. Zudem hat er die ordnungsgemäß ausgefüllten Arbeitspapiere und eine Bescheinigung nach 312 SGB III erhalten.\n",
      "\n",
      "\n",
      "Quellen:\n",
      "Cases/2020-05-05_Bendig_EBE_Kuendigung/EBE Arbeitsvertrag Ralf Bendig 2017[110].pdf\n",
      "Cases/2020-09-09_Meyer_Aldi_Kuendigung/200910_Protokoll Hergang Kündigung_neu.docx\n",
      "Cases/2020-09-09_Meyer_Aldi_Kuendigung/20201102_Vergleichsentwurf_Anm LHL.doc\n",
      "Cases/2020-09-09_Meyer_Aldi_Kuendigung/20201102_Vergleichsentwurf_V2.0.doc\n"
     ]
    },
    {
     "ename": "",
     "evalue": "",
     "output_type": "error",
     "traceback": [
      "\u001b[1;31mThe Kernel crashed while executing code in the current cell or a previous cell. \n",
      "\u001b[1;31mPlease review the code in the cell(s) to identify a possible cause of the failure. \n",
      "\u001b[1;31mClick <a href='https://aka.ms/vscodeJupyterKernelCrash'>here</a> for more info. \n",
      "\u001b[1;31mView Jupyter <a href='command:jupyter.viewOutput'>log</a> for further details."
     ]
    }
   ],
   "source": [
    "query = \"Was hat Bendig bekommen am Ende seines Falles ?\"\n",
    "llm_response = qa_chain(query)\n",
    "process_llm_response(llm_response)"
   ]
  },
  {
   "cell_type": "code",
   "execution_count": 17,
   "metadata": {},
   "outputs": [
    {
     "name": "stdout",
     "output_type": "stream",
     "text": [
      "User: Was hat er bekommen ?\n",
      "AI:  Er hat eine Abfindung von 7.650 € erhalten.\n"
     ]
    }
   ],
   "source": [
    "\n",
    "# Den Chatverlauf aus dem Memory abrufen\n",
    "chat_history = memory.chat_memory.messages\n",
    "\n",
    "# Den Verlauf formatieren und anzeigen\n",
    "for message in chat_history:\n",
    "    if message.type == \"human\":\n",
    "        print(f\"User: {message.content}\")\n",
    "    elif message.type == \"ai\":\n",
    "        print(f\"AI: {message.content}\")"
   ]
  },
  {
   "cell_type": "code",
   "execution_count": 18,
   "metadata": {},
   "outputs": [
    {
     "name": "stdout",
     "output_type": "stream",
     "text": [
      "[HumanMessage(content='Was hat er bekommen ?', additional_kwargs={}, response_metadata={}), AIMessage(content=' Er hat eine Abfindung von 7.650 € erhalten.', additional_kwargs={}, response_metadata={})]\n"
     ]
    }
   ],
   "source": [
    "print(qa_chain.memory.buffer)"
   ]
  },
  {
   "cell_type": "code",
   "execution_count": null,
   "metadata": {},
   "outputs": [],
   "source": []
  }
 ],
 "metadata": {
  "kernelspec": {
   "display_name": ".venv",
   "language": "python",
   "name": "python3"
  },
  "language_info": {
   "codemirror_mode": {
    "name": "ipython",
    "version": 3
   },
   "file_extension": ".py",
   "mimetype": "text/x-python",
   "name": "python",
   "nbconvert_exporter": "python",
   "pygments_lexer": "ipython3",
   "version": "3.11.1"
  }
 },
 "nbformat": 4,
 "nbformat_minor": 2
}
